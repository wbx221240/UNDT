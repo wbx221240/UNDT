{
 "cells": [
  {
   "cell_type": "code",
   "execution_count": 2,
   "metadata": {},
   "outputs": [],
   "source": [
    "import pandas as pd\n",
    "import numpy as np\n",
    "import matplotlib.pyplot as plt\n",
    "import math"
   ]
  },
  {
   "cell_type": "code",
   "execution_count": 3,
   "metadata": {},
   "outputs": [],
   "source": [
    "# =============\n",
    "# -user config-\n",
    "# =============\n",
    "scanStep=1\n",
    "height=12\n",
    "detectLen=49.4\n",
    "pointCnt=471\n",
    "angleStart=35\n",
    "angleStep=1\n",
    "gridn=100"
   ]
  },
  {
   "cell_type": "code",
   "execution_count": 4,
   "metadata": {},
   "outputs": [
    {
     "name": "stdout",
     "output_type": "stream",
     "text": [
      "         Frame  Beam  Point  Value\n",
      "0            0     0      0    486\n",
      "1            0     0      1    610\n",
      "2            0     0      2    469\n",
      "3            0     0      3    450\n",
      "4            0     0      4    192\n",
      "...        ...   ...    ...    ...\n",
      "4723771    277    35    467    275\n",
      "4723772    277    35    468    244\n",
      "4723773    277    35    469    177\n",
      "4723774    277    35    470    179\n",
      "4723775    277    35    471    298\n",
      "\n",
      "[4723776 rows x 4 columns]\n"
     ]
    }
   ],
   "source": [
    "data = pd.read_csv(\"../data/dataExported.csv\")\n",
    "print(data)"
   ]
  },
  {
   "cell_type": "markdown",
   "metadata": {},
   "source": [
    "低通滤除幅值较低的点"
   ]
  },
  {
   "cell_type": "code",
   "execution_count": 5,
   "metadata": {},
   "outputs": [
    {
     "name": "stdout",
     "output_type": "stream",
     "text": [
      "Flitered points count: 2565331\n"
     ]
    },
    {
     "data": {
      "image/png": "[encoded data removed]",
      "text/plain": [
       "<Figure size 640x480 with 1 Axes>"
      ]
     },
     "metadata": {},
     "output_type": "display_data"
    }
   ],
   "source": [
    "%matplotlib inline\n",
    "data_high = data.loc[data['Value'] > 100]\n",
    "print(\"Flitered points count: \" + str(len(data_high)))\n",
    "plt.boxplot(data_high['Value'])\n",
    "plt.show()"
   ]
  },
  {
   "cell_type": "markdown",
   "metadata": {},
   "source": [
    "原射线坐标系原生转换三维坐标系"
   ]
  },
  {
   "cell_type": "code",
   "execution_count": 6,
   "metadata": {},
   "outputs": [
    {
     "name": "stdout",
     "output_type": "stream",
     "text": [
      "           x          y          z  value\n",
      "0          0   0.085915   0.060159    486\n",
      "1          0   0.171831   0.120317    610\n",
      "2          0   0.257746   0.180476    469\n",
      "3          0   0.343661   0.240634    450\n",
      "4          0   0.429577   0.300793    192\n",
      "...      ...        ...        ...    ...\n",
      "4723771  277  16.788179  46.125141    275\n",
      "4723772  277  16.824051  46.223699    244\n",
      "4723773  277  16.859923  46.322257    177\n",
      "4723774  277  16.895795  46.420815    179\n",
      "4723775  277  16.931667  46.519373    298\n",
      "\n",
      "[4723776 rows x 4 columns]\n"
     ]
    }
   ],
   "source": [
    "def to3dAxes(frame, beam, point, reflection = True):\n",
    "    x = frame * scanStep\n",
    "    angleBeam = (angleStart + angleStep * beam) * math.pi / 180\n",
    "    pointLen = detectLen * (point + 1) / pointCnt\n",
    "    z = pointLen * np.sin(angleBeam)\n",
    "    yFull = pointLen * np.cos(angleBeam)\n",
    "    y = yFull\n",
    "    if reflection == True:\n",
    "        y = y % (2 * height)\n",
    "        y[y > height] = 2 * height - y[y > height]\n",
    "    return x, y, z\n",
    "\n",
    "\n",
    "\n",
    "x, y, z = to3dAxes(data['Frame'].values, data['Beam'].values, data['Point'].values, reflection=False)\n",
    "v = data['Value'].values\n",
    "data_3d = pd.DataFrame({'x': x, 'y': y, 'z': z, 'value': v})\n",
    "print(data_3d)"
   ]
  },
  {
   "cell_type": "markdown",
   "metadata": {},
   "source": [
    "插值到点阵结构"
   ]
  },
  {
   "cell_type": "code",
   "execution_count": 7,
   "metadata": {},
   "outputs": [
    {
     "name": "stdout",
     "output_type": "stream",
     "text": [
      "Using matplotlib backend: <object object at 0x000002516FB29620>\n",
      "current frame: 277278\n"
     ]
    }
   ],
   "source": [
    "%matplotlib\n",
    "from scipy.interpolate import LinearNDInterpolator\n",
    "from matplotlib.colors import LinearSegmentedColormap\n",
    "\n",
    "def getGrid2D():\n",
    "    axis = np.linspace(0, detectLen, num=gridn)\n",
    "    return np.meshgrid(axis, axis)\n",
    "\n",
    "def toGridData2D(y, z, value):\n",
    "    # 生成对应grid数据\n",
    "    yi = np.linspace(0, detectLen, num=gridn)\n",
    "    zi = np.linspace(0, detectLen, num=gridn)\n",
    "    yi, zi = np.meshgrid(yi, zi)\n",
    "    interp = LinearNDInterpolator(list(zip(y, z)), value, fill_value=0)\n",
    "    valuei = interp(yi, zi)\n",
    "    return yi, zi, valuei\n",
    "\n",
    "def drawAScan(x2d, y2d, value2d):\n",
    "    my_color = [(0,'#FFFFFF'),(0.33,'#0000FF'),(0.66,'#00FF00'),(1,'#FF0000')]\n",
    "    my_cmap = LinearSegmentedColormap.from_list('my_cmap', my_color)\n",
    "    fig, ax = plt.figure(), plt.axes()\n",
    "    im = ax.pcolormesh(x2d, y2d, value2d, shading='auto', cmap=my_cmap)\n",
    "    ax.set(xlim=(0, detectLen), ylim=(0, detectLen))\n",
    "    ax.invert_yaxis()\n",
    "    fig.colorbar(im)\n",
    "    plt.show(block=True)\n",
    "\n",
    "\n",
    "\n",
    "# numpy 按frame存储的矩阵数组\n",
    "data_clips = []\n",
    "\n",
    "for frame in range(max(data_3d['x'].values) + 1):\n",
    "    data_3df = data_3d.loc[data_3d['x']==frame, ['y', 'z', 'value']]\n",
    "    yf, zf, vf = data_3df['y'].values, data_3df['z'].values, data_3df['value'].values\n",
    "    yf_g, zf_g, vf_g = toGridData2D(yf, zf, vf)\n",
    "    #drawAScan(zf_g, yf_g, vf_g)\n",
    "    data_clips.append(np.array(vf_g))\n",
    "    print(\"\\rcurrent frame: {}\".format(frame), end=\"\")\n",
    "\n",
    "print(len(data_clips))"
   ]
  },
  {
   "cell_type": "markdown",
   "metadata": {},
   "source": [
    "均值衰减过滤结构噪声"
   ]
  },
  {
   "cell_type": "code",
   "execution_count": 8,
   "metadata": {},
   "outputs": [
    {
     "name": "stdout",
     "output_type": "stream",
     "text": [
      "[[   0.            0.            0.         ...    0.\n",
      "     0.            0.        ]\n",
      " [   0.         3367.45682177    0.         ...    0.\n",
      "     0.            0.        ]\n",
      " [   0.         3340.80078376 3062.74074897 ...    0.\n",
      "     0.            0.        ]\n",
      " ...\n",
      " [   0.            0.            0.         ...    0.\n",
      "     0.            0.        ]\n",
      " [   0.            0.            0.         ...    0.\n",
      "     0.            0.        ]\n",
      " [   0.            0.            0.         ...    0.\n",
      "     0.            0.        ]]\n"
     ]
    }
   ],
   "source": [
    "def reductMean(matrixArr, a=0.9):\n",
    "    if len(matrixArr) == 0:\n",
    "        return None\n",
    "    mean = np.zeros_like(matrixArr[0])\n",
    "    reduc = np.zeros_like(matrixArr[0])\n",
    "    for matrix in matrixArr:\n",
    "        reduc = reduc * a + matrix\n",
    "        mean = mean + reduc\n",
    "    mean = mean / len(matrixArr)\n",
    "    return mean\n",
    "\n",
    "\n",
    "\n",
    "meanFrame = reductMean(data_clips)\n",
    "print(meanFrame)\n",
    "gridY, gridZ = getGrid2D()\n",
    "drawAScan(gridZ, gridY, meanFrame)"
   ]
  },
  {
   "cell_type": "markdown",
   "metadata": {},
   "source": [
    "可视化三维散点图像"
   ]
  },
  {
   "cell_type": "code",
   "execution_count": 9,
   "metadata": {},
   "outputs": [],
   "source": [
    "# TODO"
   ]
  }
 ],
 "metadata": {
  "kernelspec": {
   "display_name": "scikit_learn",
   "language": "python",
   "name": "python3"
  },
  "language_info": {
   "codemirror_mode": {
    "name": "ipython",
    "version": 3
   },
   "file_extension": ".py",
   "mimetype": "text/x-python",
   "name": "python",
   "nbconvert_exporter": "python",
   "pygments_lexer": "ipython3",
   "version": "3.11.8"
  }
 },
 "nbformat": 4,
 "nbformat_minor": 2
}
